{
  "nbformat": 4,
  "nbformat_minor": 0,
  "metadata": {
    "colab": {
      "name": "predict_custom.ipynb",
      "provenance": [],
      "collapsed_sections": []
    },
    "kernelspec": {
      "name": "python3",
      "display_name": "Python 3"
    },
    "accelerator": "GPU"
  },
  "cells": [
    {
      "cell_type": "code",
      "metadata": {
        "id": "hxo6PREnoVQ7",
        "colab_type": "code",
        "colab": {}
      },
      "source": [
        "!pip uninstall -y keras-applications\n",
        "!pip install git+https://github.com/keras-team/keras-applications.git@master\n",
        "!pip install -U tf-nightly"
      ],
      "execution_count": null,
      "outputs": []
    },
    {
      "cell_type": "code",
      "metadata": {
        "id": "8beIXy3Nn3w8",
        "colab_type": "code",
        "colab": {}
      },
      "source": [
        "# import the necessary packages\n",
        "from tensorflow.keras.models import load_model\n",
        "from tensorflow.keras.preprocessing.image import load_img\n",
        "from tensorflow.keras.preprocessing.image import img_to_array\n",
        "from tensorflow.keras.applications.imagenet_utils import decode_predictions\n",
        "\n",
        "from keras_applications.mobilenet_v3 import MobileNetV3Large\n",
        "from keras_applications.mobilenet_v3 import preprocess_input\n",
        "from tensorflow.keras.applications import ResNet50, MobileNetV2, NASNetMobile, EfficientNetB0\n",
        "\n",
        "import matplotlib.pyplot as plt\n",
        "\n",
        "import tensorflow as tf\n",
        "import os\n",
        "\n",
        "\n",
        "import numpy as np\n",
        "import argparse\n",
        "import imutils\n",
        "import cv2"
      ],
      "execution_count": null,
      "outputs": []
    },
    {
      "cell_type": "code",
      "metadata": {
        "id": "yDbyngBHoaaI",
        "colab_type": "code",
        "colab": {}
      },
      "source": [
        "from google.colab import drive\n",
        "drive.mount('/content/drive')"
      ],
      "execution_count": null,
      "outputs": []
    },
    {
      "cell_type": "code",
      "metadata": {
        "id": "8ejhdmvRob_r",
        "colab_type": "code",
        "colab": {}
      },
      "source": [
        "!7za x \"drive/My Drive/Colab Notebooks/Final_test/OUT.zip\""
      ],
      "execution_count": null,
      "outputs": []
    },
    {
      "cell_type": "code",
      "metadata": {
        "id": "VtaT-uk2rXzN",
        "colab_type": "code",
        "colab": {}
      },
      "source": [
        "#MODEL_PATH = os.path.sep.join([\"OUT\", \"resnet50.h5\"])"
      ],
      "execution_count": null,
      "outputs": []
    },
    {
      "cell_type": "code",
      "metadata": {
        "id": "ItNK2Clpn83H",
        "colab_type": "code",
        "colab": {}
      },
      "source": [
        "'''from tensorflow.compat.v1 import ConfigProto\n",
        "from tensorflow.compat.v1 import InteractiveSession\n",
        "sess_config = ConfigProto()\n",
        "sess_config.gpu_options.per_process_gpu_memory_fraction = 0.8\n",
        "sess_config.gpu_options.allow_growth = True\n",
        "session = InteractiveSession(config=sess_config)'''"
      ],
      "execution_count": null,
      "outputs": []
    },
    {
      "cell_type": "code",
      "metadata": {
        "id": "VbYe6WQhn-_l",
        "colab_type": "code",
        "colab": {}
      },
      "source": [
        "resnet50_model = load_model(\"OUT/resnet50.h5\")\n",
        "mobilenetv3large_model = load_model(\"OUT/mobilenetv3large.h5\")\n",
        "mobilenetv2_model = load_model(\"OUT/mobilenetv2.h5\")\n",
        "nasnetmobile_model  = load_model(\"OUT/nasnetmobile.h5\")\n",
        "efficientnetb0_model = load_model(\"OUT/efficientnetb0.h5\")"
      ],
      "execution_count": null,
      "outputs": []
    },
    {
      "cell_type": "code",
      "metadata": {
        "id": "4CYiw-N6RLcT",
        "colab_type": "code",
        "colab": {}
      },
      "source": [
        "CLASSES = [\"Bread\", \"Dairy product\", \"Dessert\", \"Egg\", \"Fried food\", \"Meat\", \"Noodles/Pasta\", \"Rice\", \"Seafood\", \"Soup\", \"Vegetable/Fruit\"]"
      ],
      "execution_count": null,
      "outputs": []
    },
    {
      "cell_type": "code",
      "metadata": {
        "id": "01Lv85sioAtR",
        "colab_type": "code",
        "colab": {}
      },
      "source": [
        "# assign the image path for the classification experiments\n",
        "filename = \"OUT/soup.jpg\"\n",
        "\n",
        "# load an image in PIL format\n",
        "original = load_img(filename, target_size=(224, 224))\n",
        "print(\"PIL image size\",original.size)\n",
        "plt.imshow(original)\n",
        "plt.show()\n",
        "\n",
        "# convert the PIL image to a numpy array\n",
        "# IN PIL - image is in (width, height, channel)\n",
        "# In Numpy - image is in (height, width, channel)\n",
        "numpy_image = img_to_array(original)\n",
        "plt.imshow(np.uint8(numpy_image))\n",
        "plt.show()\n",
        "print(\"numpy array size\",numpy_image.shape)\n",
        "\n",
        "# Convert the image / images into batch format\n",
        "# expand_dims will add an extra dimension to the data at a particular axis\n",
        "# We want the input matrix to the network to be of the form (batchsize, height, width, channels)\n",
        "# Thus we add the extra dimension to the axis 0.\n",
        "image_batch = np.expand_dims(numpy_image, axis=0)\n",
        "print(\"image batch size\", image_batch.shape)\n",
        "plt.imshow(np.uint8(image_batch[0]))"
      ],
      "execution_count": null,
      "outputs": []
    },
    {
      "cell_type": "code",
      "metadata": {
        "id": "Y7JAsVhKoIe3",
        "colab_type": "code",
        "colab": {}
      },
      "source": [
        "#ResNet50\n",
        "# prepare the image for the ResNet50 model\n",
        "processed_image0 = tf.keras.applications.resnet50.preprocess_input(image_batch.copy())\n",
        "#processed_image0=image_batch.copy()\n",
        "\n",
        "#processed_image=image_batch.copy()\n",
        "# get the predicted probabilities for each class\n",
        "predictions_resnet50 = resnet50_model.predict(processed_image0)\n",
        "\n",
        "# convert the probabilities to class labels\n",
        "# If you want to see the top 3 predictions, specify it using the top argument\n",
        "#label_resnet50 = tf.keras.applications.resnet.decode_predictions(predictions, top=3)\n",
        "# print ResNet predictions\n",
        "#for prediction_id in range(len(label_resnet50[0])):\n",
        "    #print(label_resnet50[0][prediction_id])\n",
        "\n",
        "i0 = np.argmax(predictions_resnet50)\n",
        "label_resnet50 = CLASSES[i0]\n",
        "print(label_resnet50, predictions_resnet50[0][i0]*100)"
      ],
      "execution_count": null,
      "outputs": []
    },
    {
      "cell_type": "code",
      "metadata": {
        "id": "WCtVJN0boJvI",
        "colab_type": "code",
        "colab": {}
      },
      "source": [
        "#MobileNetV3Large\n",
        "# prepare the image for the MobileNet model\n",
        "#processed_image1 = keras_applications.mobilenet_v3.preprocess_input(image_batch.copy())\n",
        "processed_image1=image_batch.copy()\n",
        "\n",
        "# get the predicted probabilities for each class\n",
        "predictions_mobilenetv3large = mobilenetv3large_model.predict(processed_image1)\n",
        "\n",
        "# convert the probabilities to imagenet class labels\n",
        "#label_mobilenetv3large = decode_predictions(predictions)\n",
        "# print MobileNet predictions\n",
        "#for prediction_id in range(len(label_mobilenetv3large[0])):\n",
        "#    print(label_mobilenetv3large[0][prediction_id])\n",
        "i1 = np.argmax(predictions_mobilenetv3large)\n",
        "label_mobilenetv3large = CLASSES[i1]\n",
        "print(label_mobilenetv3large, predictions_mobilenetv3large[0][i1]*100)"
      ],
      "execution_count": null,
      "outputs": []
    },
    {
      "cell_type": "code",
      "metadata": {
        "id": "j8JjextzoL8t",
        "colab_type": "code",
        "colab": {}
      },
      "source": [
        "#MobileNetV2\n",
        "# prepare the image for the MobileNet model\n",
        "#processed_image2 = tf.keras.applications.mobilenet_v2.preprocess_input(image_batch.copy())\n",
        "processed_image2=image_batch.copy()\n",
        "\n",
        "\n",
        "# get the predicted probabilities for each class\n",
        "predictions_MobileNetV2 = mobilenetv2_model.predict(processed_image2)\n",
        "\n",
        "# convert the probabilities to imagenet class labels\n",
        "#label_mobilenetv2 = decode_predictions(predictions)\n",
        "# print MobileNet predictions\n",
        "i2 = np.argmax(predictions_MobileNetV2)\n",
        "label_mobilenetv2 = CLASSES[i2]\n",
        "print(label_mobilenetv2, predictions_MobileNetV2[0][i2]*100)"
      ],
      "execution_count": null,
      "outputs": []
    },
    {
      "cell_type": "code",
      "metadata": {
        "id": "j9d_zZ4toNU4",
        "colab_type": "code",
        "colab": {}
      },
      "source": [
        "#nasnetmobile\n",
        "# prepare the image for the MobileNet model\n",
        "processed_image3 = tf.keras.applications.nasnet.preprocess_input(image_batch.copy())\n",
        "#process_image3=image_batch.copy()\n",
        "\n",
        "# get the predicted probabilities for each class\n",
        "predictions_nasnetmobile = nasnetmobile_model.predict(process_image3)\n",
        "\n",
        "# convert the probabilities to imagenet class labels\n",
        "#label_nasnetmobile = decode_predictions(predictions)\n",
        "# print MobileNet predictions\n",
        "i3 = np.argmax(predictions_nasnetmobile)\n",
        "label_nasnetmobile = CLASSES[i3]\n",
        "print(label_nasnetmobile, predictions_nasnetmobile[0][i3]*100)"
      ],
      "execution_count": null,
      "outputs": []
    },
    {
      "cell_type": "code",
      "metadata": {
        "id": "kHb8H_x0oOj1",
        "colab_type": "code",
        "colab": {}
      },
      "source": [
        "#efficientnetb0\n",
        "# prepare the image for the MobileNet model\n",
        "processed_image4 = tf.keras.applications.efficientnet.preprocess_input(image_batch.copy())\n",
        "\n",
        "# get the predicted probabilities for each class\n",
        "predictions_efficientnetb0 = efficientnetb0_model.predict(processed_image4)\n",
        "\n",
        "# convert the probabilities to imagenet class labels\n",
        "#label_efficientnetb0 = decode_predictions(predictions)\n",
        "# print MobileNet predictions\n",
        "i4 = np.argmax(predictions_efficientnetb0)\n",
        "label_efficientnetb0 = CLASSES[i4]\n",
        "print(label_efficientnetb0, predictions_efficientnetb0[0][i4]*100)"
      ],
      "execution_count": null,
      "outputs": []
    },
    {
      "cell_type": "code",
      "metadata": {
        "id": "ahya3PnFQYLv",
        "colab_type": "code",
        "colab": {
          "base_uri": "https://localhost:8080/",
          "height": 34
        },
        "outputId": "87b64905-c816-4b6f-8935-103d973e3873"
      },
      "source": [
        "print(CLASSES)"
      ],
      "execution_count": null,
      "outputs": [
        {
          "output_type": "stream",
          "text": [
            "['Bread', 'Dairy product', 'Dessert', 'Egg', 'Fried food', 'Meat', 'Noodles/Pasta', 'Rice', 'Seafood', 'Soup', 'Vegetable/Fruit']\n"
          ],
          "name": "stdout"
        }
      ]
    },
    {
      "cell_type": "code",
      "metadata": {
        "id": "FX8jJLB2oDt5",
        "colab_type": "code",
        "colab": {}
      },
      "source": [
        "print(label_resnet50, predictions_resnet50[0][i0]*100)\n",
        "print(label_mobilenetv3large, predictions_mobilenetv3large[0][i1]*100)\n",
        "print(label_mobilenetv2, predictions_MobileNetV2[0][i2]*100)\n",
        "print(label_nasnetmobile, predictions_nasnetmobile[0][i3]*100)\n",
        "print(label_efficientnetb0, predictions_efficientnetb0[0][i4]*100)\n",
        "\n",
        "\n",
        "\n",
        "\n",
        "numpy_image = np.uint8(img_to_array(original)).copy()\n",
        "numpy_image = cv2.resize(numpy_image,(900,900))\n",
        "\n",
        "# format final image visualization to display the results of experiments\n",
        "cv2.putText(numpy_image, \"ResNet50: {}, {:.2f}\".format(label_resnet50, predictions_resnet50[0][i0]) , (25, 40), cv2.FONT_HERSHEY_SIMPLEX, 1, (255, 0, 255), 1)\n",
        "cv2.putText(numpy_image, \"MobileNetV3Large: {}, {:.2f}\".format(label_mobilenetv3large, predictions_mobilenetv3large[0][i1]) , (25, 75), cv2.FONT_HERSHEY_SIMPLEX, 1, (0, 255, 255), 1)\n",
        "cv2.putText(numpy_image, \"MobileNetV2: {}, {:.2f}\".format(label_mobilenetv2, predictions_MobileNetV2[0][i2]) , (25, 110), cv2.FONT_HERSHEY_SIMPLEX, 1, (255, 0, 0), 1)\n",
        "cv2.putText(numpy_image, \"NasNetMobile: {}, {:.2f}\".format(label_nasnetmobile, predictions_nasnetmobile[0][i3]) , (25, 145), cv2.FONT_HERSHEY_SIMPLEX, 1, (0, 0, 255), 1)\n",
        "cv2.putText(numpy_image, \"EfficientNetB0: {}, {:.2f}\".format(label_efficientnetb0, predictions_efficientnetb0[0][i4]) , (25, 180), cv2.FONT_HERSHEY_SIMPLEX, 1, (0, 0, 255), 1)\n",
        "\n",
        "numpy_image = cv2.resize(numpy_image, (700,700))\n",
        "cv2.imwrite(\"OUT/{}_output.jpg\".format(filename.split('/')[-1].split('.')[0]),cv2.cvtColor(numpy_image, cv2.COLOR_RGB2BGR))\n",
        "\n",
        "plt.figure(figsize=[10,10])\n",
        "plt.axis('off')\n",
        "plt.imshow(numpy_image)\n",
        "\n",
        "\n",
        "\n",
        "\n",
        "\n",
        "\n",
        "\n",
        "\n",
        "\n"
      ],
      "execution_count": null,
      "outputs": []
    }
  ]
}